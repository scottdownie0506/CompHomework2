{
 "cells": [
  {
   "cell_type": "code",
   "execution_count": 2,
   "id": "e1f826f0",
   "metadata": {},
   "outputs": [
    {
     "name": "stdout",
     "output_type": "stream",
     "text": [
      "0\n",
      "1\n",
      "2\n",
      "3\n",
      "4\n"
     ]
    }
   ],
   "source": [
    "# question 1\n",
    "n = 0\n",
    "while n<10:\n",
    "    print(n)\n",
    "    n += 1\n",
    "    if n == 5:\n",
    "        break"
   ]
  },
  {
   "cell_type": "code",
   "execution_count": 3,
   "id": "72634f67",
   "metadata": {},
   "outputs": [
    {
     "name": "stdout",
     "output_type": "stream",
     "text": [
      "0\n",
      "1\n",
      "2\n",
      "3\n",
      "4\n",
      "5 is not less than 5\n"
     ]
    }
   ],
   "source": [
    "# question 2\n",
    "n = 0\n",
    "while n<5:\n",
    "    print(n)\n",
    "    n += 1\n",
    "print(n, \"is not less than 5\")"
   ]
  },
  {
   "cell_type": "code",
   "execution_count": 4,
   "id": "981cafa9",
   "metadata": {},
   "outputs": [
    {
     "name": "stdout",
     "output_type": "stream",
     "text": [
      "I like banana\n",
      "I like orange\n",
      "Is apple really a fruit?\n"
     ]
    }
   ],
   "source": [
    "# question 3\n",
    "fruits = [\"banana\", \"orange\", \"apple\", \"kiwi\"]\n",
    "for fruit in fruits:\n",
    "    if fruit == \"apple\":\n",
    "        print(\"Is\", fruit, \"really a fruit?\")\n",
    "        break\n",
    "    print(\"I like\", fruit)"
   ]
  },
  {
   "cell_type": "code",
   "execution_count": 7,
   "id": "41e523d3",
   "metadata": {},
   "outputs": [
    {
     "name": "stdout",
     "output_type": "stream",
     "text": [
      "The sum of all integers from 1 to 30 is 465\n"
     ]
    }
   ],
   "source": [
    "# question 4\n",
    "i = 0\n",
    "sum = 0\n",
    "while i <= 30:\n",
    "    i += 1\n",
    "    sum += i\n",
    "    if i == 30:\n",
    "        print (\"The sum of all integers from 1 to 30 is\", sum)\n",
    "        break"
   ]
  },
  {
   "cell_type": "code",
   "execution_count": 12,
   "id": "44e97891",
   "metadata": {},
   "outputs": [
    {
     "name": "stdout",
     "output_type": "stream",
     "text": [
      "When it is sunny let's play\n",
      "When it is rainy let's watch TV\n",
      "When it is cloudy let's walk\n",
      "When it is snowy let's ski\n"
     ]
    }
   ],
   "source": [
    "# question 5\n",
    "weatherdict = {\"sunny\" : \"play\",\n",
    "              \"rainy\" : \"watch TV\",\n",
    "              \"cloudy\" : \"walk\",\n",
    "              \"snowy\" : \"ski\"}\n",
    "for weather, activity in weatherdict.items():\n",
    "    print('When it is', weather, \"let's\", activity)"
   ]
  },
  {
   "cell_type": "code",
   "execution_count": 7,
   "id": "902795ad",
   "metadata": {},
   "outputs": [
    {
     "name": "stdout",
     "output_type": "stream",
     "text": [
      "When it is sunny let's play\n",
      "When it is rainy let's watch TV\n",
      "When it is cloudy let's walk\n"
     ]
    }
   ],
   "source": [
    "# question 6\n",
    "\n",
    "def weather_activities(weather):\n",
    "    if weather == \"sunny\":\n",
    "        print(\"When it is\", weather, \"let's play\")\n",
    "    elif weather == \"rainy\":\n",
    "        print(\"When it is\", weather, \"let's watch TV\")\n",
    "    elif weather == \"cloudy\":\n",
    "        print(\"When it is\", weather, \"let's walk\")\n",
    "\n",
    "weather_activities(\"sunny\")\n",
    "weather_activities(\"rainy\")\n",
    "weather_activities(\"cloudy\")"
   ]
  },
  {
   "cell_type": "code",
   "execution_count": 15,
   "id": "29e5cf8b",
   "metadata": {},
   "outputs": [
    {
     "name": "stdout",
     "output_type": "stream",
     "text": [
      "Your grade is a C.\n"
     ]
    }
   ],
   "source": [
    "# question 7\n",
    "\n",
    "grade = 74\n",
    "\n",
    "if grade >= 90:\n",
    "    print(\"Congratulations! Your grade is an A.\")\n",
    "elif grade >= 80:\n",
    "    print(\"Congratulations! Your grade is a B.\")\n",
    "elif grade >= 70:\n",
    "    print(\"Your grade is a C.\")\n",
    "elif grade >= 60:\n",
    "    print(\"Your grade is a D.\")\n",
    "else:\n",
    "    print(\"Your grade is an F.\")"
   ]
  },
  {
   "cell_type": "code",
   "execution_count": null,
   "id": "5d94f71a",
   "metadata": {},
   "outputs": [],
   "source": []
  }
 ],
 "metadata": {
  "kernelspec": {
   "display_name": "Python 3",
   "language": "python",
   "name": "python3"
  },
  "language_info": {
   "codemirror_mode": {
    "name": "ipython",
    "version": 3
   },
   "file_extension": ".py",
   "mimetype": "text/x-python",
   "name": "python",
   "nbconvert_exporter": "python",
   "pygments_lexer": "ipython3",
   "version": "3.8.8"
  }
 },
 "nbformat": 4,
 "nbformat_minor": 5
}
